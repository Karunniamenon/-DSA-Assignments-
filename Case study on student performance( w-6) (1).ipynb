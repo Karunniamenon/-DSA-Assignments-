{
 "cells": [
  {
   "cell_type": "markdown",
   "id": "dcf42ea0",
   "metadata": {},
   "source": [
    "# Case Study on Measures of Central Tendency and Dispersion\n",
    "  An Institution wishes to find out their student’s ability in maths, reading and\n",
    "writing skills. The Institution wants to do an exploratory study to check the\n",
    "following information.\n",
    "1. Find out how many males and females participated in the test.\n",
    "2. What do you think about the students' parental level of education?\n",
    "3. Who scores the most on average for math, reading and writing based on\n",
    "   * Gender\n",
    "   * Test preparation course\n",
    "4. What do you think about the scoring variation for math, reading and writing based on\n",
    "   * Gender\n",
    "   * Test preparation course\n",
    "5. The management needs your help to give bonus points to the top 25% ofstudents based on their maths score, so how will you    help the management to achieve this."
   ]
  },
  {
   "cell_type": "code",
   "execution_count": 1,
   "id": "877c0f8e",
   "metadata": {},
   "outputs": [],
   "source": [
    "import pandas as pd\n",
    "import seaborn as sns\n",
    "import matplotlib.pyplot as plt\n",
    "import numpy as np\n",
    "import warnings\n",
    "warnings.filterwarnings(\"ignore\")"
   ]
  },
  {
   "cell_type": "code",
   "execution_count": 4,
   "id": "6332585e",
   "metadata": {},
   "outputs": [
    {
     "data": {
      "text/html": [
       "<div>\n",
       "<style scoped>\n",
       "    .dataframe tbody tr th:only-of-type {\n",
       "        vertical-align: middle;\n",
       "    }\n",
       "\n",
       "    .dataframe tbody tr th {\n",
       "        vertical-align: top;\n",
       "    }\n",
       "\n",
       "    .dataframe thead th {\n",
       "        text-align: right;\n",
       "    }\n",
       "</style>\n",
       "<table border=\"1\" class=\"dataframe\">\n",
       "  <thead>\n",
       "    <tr style=\"text-align: right;\">\n",
       "      <th></th>\n",
       "      <th>gender</th>\n",
       "      <th>race/ethnicity</th>\n",
       "      <th>parental level of education</th>\n",
       "      <th>lunch</th>\n",
       "      <th>test preparation course</th>\n",
       "      <th>math score</th>\n",
       "      <th>reading score</th>\n",
       "      <th>writing score</th>\n",
       "    </tr>\n",
       "  </thead>\n",
       "  <tbody>\n",
       "    <tr>\n",
       "      <th>0</th>\n",
       "      <td>female</td>\n",
       "      <td>group C</td>\n",
       "      <td>some high school</td>\n",
       "      <td>free/reduced</td>\n",
       "      <td>none</td>\n",
       "      <td>0</td>\n",
       "      <td>17</td>\n",
       "      <td>10</td>\n",
       "    </tr>\n",
       "    <tr>\n",
       "      <th>1</th>\n",
       "      <td>female</td>\n",
       "      <td>group B</td>\n",
       "      <td>high school</td>\n",
       "      <td>free/reduced</td>\n",
       "      <td>none</td>\n",
       "      <td>8</td>\n",
       "      <td>24</td>\n",
       "      <td>23</td>\n",
       "    </tr>\n",
       "    <tr>\n",
       "      <th>2</th>\n",
       "      <td>female</td>\n",
       "      <td>group B</td>\n",
       "      <td>some high school</td>\n",
       "      <td>free/reduced</td>\n",
       "      <td>none</td>\n",
       "      <td>18</td>\n",
       "      <td>32</td>\n",
       "      <td>28</td>\n",
       "    </tr>\n",
       "    <tr>\n",
       "      <th>3</th>\n",
       "      <td>female</td>\n",
       "      <td>group B</td>\n",
       "      <td>some college</td>\n",
       "      <td>standard</td>\n",
       "      <td>none</td>\n",
       "      <td>11</td>\n",
       "      <td>38</td>\n",
       "      <td>32</td>\n",
       "    </tr>\n",
       "    <tr>\n",
       "      <th>4</th>\n",
       "      <td>female</td>\n",
       "      <td>group C</td>\n",
       "      <td>some college</td>\n",
       "      <td>free/reduced</td>\n",
       "      <td>none</td>\n",
       "      <td>22</td>\n",
       "      <td>39</td>\n",
       "      <td>33</td>\n",
       "    </tr>\n",
       "  </tbody>\n",
       "</table>\n",
       "</div>"
      ],
      "text/plain": [
       "   gender race/ethnicity parental level of education         lunch  \\\n",
       "0  female        group C            some high school  free/reduced   \n",
       "1  female        group B                 high school  free/reduced   \n",
       "2  female        group B            some high school  free/reduced   \n",
       "3  female        group B                some college      standard   \n",
       "4  female        group C                some college  free/reduced   \n",
       "\n",
       "  test preparation course  math score  reading score  writing score  \n",
       "0                    none           0             17             10  \n",
       "1                    none           8             24             23  \n",
       "2                    none          18             32             28  \n",
       "3                    none          11             38             32  \n",
       "4                    none          22             39             33  "
      ]
     },
     "execution_count": 4,
     "metadata": {},
     "output_type": "execute_result"
    }
   ],
   "source": [
    "stu=pd.read_csv('StudentsPerformance.csv')\n",
    "stu.head()"
   ]
  },
  {
   "cell_type": "code",
   "execution_count": 10,
   "id": "1066708f",
   "metadata": {},
   "outputs": [
    {
     "name": "stdout",
     "output_type": "stream",
     "text": [
      "<class 'pandas.core.frame.DataFrame'>\n",
      "RangeIndex: 1000 entries, 0 to 999\n",
      "Data columns (total 8 columns):\n",
      " #   Column                       Non-Null Count  Dtype \n",
      "---  ------                       --------------  ----- \n",
      " 0   gender                       1000 non-null   object\n",
      " 1   race/ethnicity               1000 non-null   object\n",
      " 2   parental level of education  1000 non-null   object\n",
      " 3   lunch                        1000 non-null   object\n",
      " 4   test preparation course      1000 non-null   object\n",
      " 5   math score                   1000 non-null   int64 \n",
      " 6   reading score                1000 non-null   int64 \n",
      " 7   writing score                1000 non-null   int64 \n",
      "dtypes: int64(3), object(5)\n",
      "memory usage: 62.6+ KB\n"
     ]
    }
   ],
   "source": [
    "stu.info()## RANGE INDICATES THAT THERE ARE THOUSAND VALUES , ALSO IT CONTAINS 8 FEATURES,CONTAINING BOTH OBJECT AND INTEGER DATATYPES."
   ]
  },
  {
   "cell_type": "code",
   "execution_count": 9,
   "id": "9f791d22",
   "metadata": {},
   "outputs": [
    {
     "data": {
      "text/plain": [
       "gender                         0\n",
       "race/ethnicity                 0\n",
       "parental level of education    0\n",
       "lunch                          0\n",
       "test preparation course        0\n",
       "math score                     0\n",
       "reading score                  0\n",
       "writing score                  0\n",
       "dtype: int64"
      ]
     },
     "execution_count": 9,
     "metadata": {},
     "output_type": "execute_result"
    }
   ],
   "source": [
    "stu.isna().sum()## INDICATES THAT THERE IS NO NULL VALUES."
   ]
  },
  {
   "cell_type": "markdown",
   "id": "27cbcc69",
   "metadata": {},
   "source": [
    "## 1. Find out how many males and females participated in the test."
   ]
  },
  {
   "cell_type": "code",
   "execution_count": 11,
   "id": "8d8d8cc6",
   "metadata": {},
   "outputs": [
    {
     "data": {
      "text/plain": [
       "female    518\n",
       "male      482\n",
       "Name: gender, dtype: int64"
      ]
     },
     "execution_count": 11,
     "metadata": {},
     "output_type": "execute_result"
    }
   ],
   "source": [
    "stu['gender'].value_counts()"
   ]
  },
  {
   "cell_type": "code",
   "execution_count": 13,
   "id": "ded71832",
   "metadata": {},
   "outputs": [
    {
     "data": {
      "text/plain": [
       "Text(0.5, 1.0, ' GENDER WISE  PARTICIPATION')"
      ]
     },
     "execution_count": 13,
     "metadata": {},
     "output_type": "execute_result"
    },
    {
     "data": {
      "image/png": "[encoded data removed]",
      "text/plain": [
       "<Figure size 432x288 with 1 Axes>"
      ]
     },
     "metadata": {
      "needs_background": "light"
     },
     "output_type": "display_data"
    }
   ],
   "source": [
    "figsize=(8,6)\n",
    "stu['gender'].value_counts().plot(kind='bar',rot=30,color=['blue','yellow'])\n",
    "plt.xlabel(\"GENDER\",labelpad=14)\n",
    "plt.ylabel(\"COUNT\",labelpad=12)\n",
    "plt.title(\" GENDER WISE  PARTICIPATION\",fontsize=16)"
   ]
  },
  {
   "cell_type": "markdown",
   "id": "8cd7b039",
   "metadata": {},
   "source": [
    "## INFERENCES:-\n",
    "    Female participation (518) is more than male (482) in the test. "
   ]
  },
  {
   "cell_type": "markdown",
   "id": "a06bb9e2",
   "metadata": {},
   "source": [
    "## 2. What do you think about the students' parental level of education?"
   ]
  },
  {
   "cell_type": "code",
   "execution_count": 21,
   "id": "b8ccfc7c",
   "metadata": {},
   "outputs": [
    {
     "name": "stdout",
     "output_type": "stream",
     "text": [
      "                    parental level of education\n",
      "some college                                226\n",
      "associate's degree                          222\n",
      "high school                                 196\n",
      "some high school                            179\n",
      "bachelor's degree                           118\n",
      "master's degree                              59\n"
     ]
    },
    {
     "data": {
      "image/png": "[encoded data removed]",
      "text/plain": [
       "<Figure size 432x288 with 1 Axes>"
      ]
     },
     "metadata": {
      "needs_background": "light"
     },
     "output_type": "display_data"
    }
   ],
   "source": [
    "print(stu['parental level of education'].value_counts().to_frame())\n",
    "plt.hist(stu['parental level of education'], color=['magenta'],rwidth=0.9)\n",
    "plt.xticks(rotation=45)\n",
    "plt.grid()\n",
    "plt.show()"
   ]
  },
  {
   "cell_type": "markdown",
   "id": "0aee6e70",
   "metadata": {},
   "source": [
    "## INFERENCES:-\n",
    "   Out of the total education level,\n",
    "   1. Mostly have degree level education.\n",
    "   2. Arranging the qualification in ascending order, we have\n",
    "       * master degree> bachelor degree> some high school>high school>associate degree>some college.\n",
    "   3. About 5% of the parents have masters education."
   ]
  },
  {
   "cell_type": "markdown",
   "id": "ca5b9509",
   "metadata": {},
   "source": [
    "## 3. Who scores the most on average for math, reading and writing based on\n",
    "     3.1. ● Gender"
   ]
  },
  {
   "cell_type": "code",
   "execution_count": 23,
   "id": "89dce8da",
   "metadata": {},
   "outputs": [
    {
     "name": "stdout",
     "output_type": "stream",
     "text": [
      "Maths score:\n",
      "         count       mean        std   min   25%   50%   75%    max\n",
      "gender                                                            \n",
      "female  518.0  63.376448  16.029928   0.0  54.0  65.0  74.0  100.0\n",
      "male    482.0  68.821577  14.556411  27.0  59.0  69.0  79.0  100.0 \n",
      "\n",
      "Reading score:\n",
      "         count       mean        std   min    25%   50%   75%    max\n",
      "gender                                                             \n",
      "female  518.0  72.590734  14.411018  17.0  63.25  73.0  83.0  100.0\n",
      "male    482.0  65.545643  14.149594  23.0  56.00  66.0  76.0  100.0 \n",
      "\n",
      "Writing score:\n",
      "         count       mean        std   min   25%   50%   75%    max\n",
      "gender                                                            \n",
      "female  518.0  72.467181  14.844842  10.0  64.0  74.0  82.0  100.0\n",
      "male    482.0  63.446058  14.227225  15.0  53.0  64.0  74.0  100.0\n"
     ]
    }
   ],
   "source": [
    "print('Maths score:\\n', stu.groupby('gender')['math score'].describe(),'\\n')\n",
    "print('Reading score:\\n', stu.groupby('gender')['reading score'].describe(),'\\n')\n",
    "print('Writing score:\\n', stu.groupby('gender')['writing score'].describe())"
   ]
  },
  {
   "cell_type": "code",
   "execution_count": 26,
   "id": "fff7d7f9",
   "metadata": {},
   "outputs": [
    {
     "data": {
      "image/png": "[encoded data removed]",
      "text/plain": [
       "<Figure size 720x720 with 1 Axes>"
      ]
     },
     "metadata": {},
     "output_type": "display_data"
    }
   ],
   "source": [
    "stu.groupby('gender')[['math score', 'reading score', 'writing score']].mean().plot(kind='bar', figsize=(10,10))\n",
    "plt.xticks(rotation=0)\n",
    "plt.title('GENDER VS AVERAGE SCORE',c='c',fontsize=15)\n",
    "plt.xlabel('Gender',c='c',fontsize=14)\n",
    "plt.ylabel('Average',c='c',fontsize=14)\n",
    "plt.grid()\n",
    "plt.show()"
   ]
  },
  {
   "cell_type": "markdown",
   "id": "4226dfbf",
   "metadata": {},
   "source": [
    "## INFERENCES:-\n",
    "   1. Based on  maths score male perform better than females.\n",
    "   2. With respect to reading and writing female average is better than male average.\n",
    "   3. Overall based on gender, females perform better than males."
   ]
  },
  {
   "cell_type": "markdown",
   "id": "67289037",
   "metadata": {},
   "source": [
    "##  Who scores the most on average for math, reading and writing based on:\n",
    "    3.2 Test preparation course"
   ]
  },
  {
   "cell_type": "code",
   "execution_count": 27,
   "id": "41ed0bb5",
   "metadata": {},
   "outputs": [
    {
     "data": {
      "text/html": [
       "<div>\n",
       "<style scoped>\n",
       "    .dataframe tbody tr th:only-of-type {\n",
       "        vertical-align: middle;\n",
       "    }\n",
       "\n",
       "    .dataframe tbody tr th {\n",
       "        vertical-align: top;\n",
       "    }\n",
       "\n",
       "    .dataframe thead th {\n",
       "        text-align: right;\n",
       "    }\n",
       "</style>\n",
       "<table border=\"1\" class=\"dataframe\">\n",
       "  <thead>\n",
       "    <tr style=\"text-align: right;\">\n",
       "      <th></th>\n",
       "      <th>count</th>\n",
       "      <th>mean</th>\n",
       "      <th>std</th>\n",
       "      <th>min</th>\n",
       "      <th>25%</th>\n",
       "      <th>50%</th>\n",
       "      <th>75%</th>\n",
       "      <th>max</th>\n",
       "    </tr>\n",
       "    <tr>\n",
       "      <th>test preparation course</th>\n",
       "      <th></th>\n",
       "      <th></th>\n",
       "      <th></th>\n",
       "      <th></th>\n",
       "      <th></th>\n",
       "      <th></th>\n",
       "      <th></th>\n",
       "      <th></th>\n",
       "    </tr>\n",
       "  </thead>\n",
       "  <tbody>\n",
       "    <tr>\n",
       "      <th>completed</th>\n",
       "      <td>358.0</td>\n",
       "      <td>69.96648</td>\n",
       "      <td>14.521847</td>\n",
       "      <td>23.0</td>\n",
       "      <td>61.0</td>\n",
       "      <td>70.0</td>\n",
       "      <td>79.0</td>\n",
       "      <td>100.0</td>\n",
       "    </tr>\n",
       "    <tr>\n",
       "      <th>none</th>\n",
       "      <td>642.0</td>\n",
       "      <td>63.78972</td>\n",
       "      <td>15.705689</td>\n",
       "      <td>0.0</td>\n",
       "      <td>54.0</td>\n",
       "      <td>64.0</td>\n",
       "      <td>74.0</td>\n",
       "      <td>100.0</td>\n",
       "    </tr>\n",
       "  </tbody>\n",
       "</table>\n",
       "</div>"
      ],
      "text/plain": [
       "                         count      mean        std   min   25%   50%   75%  \\\n",
       "test preparation course                                                       \n",
       "completed                358.0  69.96648  14.521847  23.0  61.0  70.0  79.0   \n",
       "none                     642.0  63.78972  15.705689   0.0  54.0  64.0  74.0   \n",
       "\n",
       "                           max  \n",
       "test preparation course         \n",
       "completed                100.0  \n",
       "none                     100.0  "
      ]
     },
     "execution_count": 27,
     "metadata": {},
     "output_type": "execute_result"
    }
   ],
   "source": [
    "stu.groupby('test preparation course')['math score'].describe()"
   ]
  },
  {
   "cell_type": "code",
   "execution_count": 29,
   "id": "8cccd9eb",
   "metadata": {},
   "outputs": [
    {
     "data": {
      "text/html": [
       "<div>\n",
       "<style scoped>\n",
       "    .dataframe tbody tr th:only-of-type {\n",
       "        vertical-align: middle;\n",
       "    }\n",
       "\n",
       "    .dataframe tbody tr th {\n",
       "        vertical-align: top;\n",
       "    }\n",
       "\n",
       "    .dataframe thead th {\n",
       "        text-align: right;\n",
       "    }\n",
       "</style>\n",
       "<table border=\"1\" class=\"dataframe\">\n",
       "  <thead>\n",
       "    <tr style=\"text-align: right;\">\n",
       "      <th></th>\n",
       "      <th>count</th>\n",
       "      <th>mean</th>\n",
       "      <th>std</th>\n",
       "      <th>min</th>\n",
       "      <th>25%</th>\n",
       "      <th>50%</th>\n",
       "      <th>75%</th>\n",
       "      <th>max</th>\n",
       "    </tr>\n",
       "    <tr>\n",
       "      <th>test preparation course</th>\n",
       "      <th></th>\n",
       "      <th></th>\n",
       "      <th></th>\n",
       "      <th></th>\n",
       "      <th></th>\n",
       "      <th></th>\n",
       "      <th></th>\n",
       "      <th></th>\n",
       "    </tr>\n",
       "  </thead>\n",
       "  <tbody>\n",
       "    <tr>\n",
       "      <th>completed</th>\n",
       "      <td>358.0</td>\n",
       "      <td>74.175978</td>\n",
       "      <td>13.537572</td>\n",
       "      <td>37.0</td>\n",
       "      <td>66.0</td>\n",
       "      <td>75.0</td>\n",
       "      <td>84.0</td>\n",
       "      <td>100.0</td>\n",
       "    </tr>\n",
       "    <tr>\n",
       "      <th>none</th>\n",
       "      <td>642.0</td>\n",
       "      <td>66.417445</td>\n",
       "      <td>14.608896</td>\n",
       "      <td>17.0</td>\n",
       "      <td>57.0</td>\n",
       "      <td>67.0</td>\n",
       "      <td>76.0</td>\n",
       "      <td>100.0</td>\n",
       "    </tr>\n",
       "  </tbody>\n",
       "</table>\n",
       "</div>"
      ],
      "text/plain": [
       "                         count       mean        std   min   25%   50%   75%  \\\n",
       "test preparation course                                                        \n",
       "completed                358.0  74.175978  13.537572  37.0  66.0  75.0  84.0   \n",
       "none                     642.0  66.417445  14.608896  17.0  57.0  67.0  76.0   \n",
       "\n",
       "                           max  \n",
       "test preparation course         \n",
       "completed                100.0  \n",
       "none                     100.0  "
      ]
     },
     "execution_count": 29,
     "metadata": {},
     "output_type": "execute_result"
    }
   ],
   "source": [
    "stu.groupby('test preparation course')['reading score'].describe()"
   ]
  },
  {
   "cell_type": "code",
   "execution_count": 30,
   "id": "edea8d6c",
   "metadata": {},
   "outputs": [
    {
     "data": {
      "text/html": [
       "<div>\n",
       "<style scoped>\n",
       "    .dataframe tbody tr th:only-of-type {\n",
       "        vertical-align: middle;\n",
       "    }\n",
       "\n",
       "    .dataframe tbody tr th {\n",
       "        vertical-align: top;\n",
       "    }\n",
       "\n",
       "    .dataframe thead th {\n",
       "        text-align: right;\n",
       "    }\n",
       "</style>\n",
       "<table border=\"1\" class=\"dataframe\">\n",
       "  <thead>\n",
       "    <tr style=\"text-align: right;\">\n",
       "      <th></th>\n",
       "      <th>count</th>\n",
       "      <th>mean</th>\n",
       "      <th>std</th>\n",
       "      <th>min</th>\n",
       "      <th>25%</th>\n",
       "      <th>50%</th>\n",
       "      <th>75%</th>\n",
       "      <th>max</th>\n",
       "    </tr>\n",
       "    <tr>\n",
       "      <th>test preparation course</th>\n",
       "      <th></th>\n",
       "      <th></th>\n",
       "      <th></th>\n",
       "      <th></th>\n",
       "      <th></th>\n",
       "      <th></th>\n",
       "      <th></th>\n",
       "      <th></th>\n",
       "    </tr>\n",
       "  </thead>\n",
       "  <tbody>\n",
       "    <tr>\n",
       "      <th>completed</th>\n",
       "      <td>358.0</td>\n",
       "      <td>74.684358</td>\n",
       "      <td>13.236412</td>\n",
       "      <td>36.0</td>\n",
       "      <td>67.0</td>\n",
       "      <td>76.0</td>\n",
       "      <td>83.75</td>\n",
       "      <td>100.0</td>\n",
       "    </tr>\n",
       "    <tr>\n",
       "      <th>none</th>\n",
       "      <td>642.0</td>\n",
       "      <td>64.457944</td>\n",
       "      <td>15.041667</td>\n",
       "      <td>10.0</td>\n",
       "      <td>54.0</td>\n",
       "      <td>65.0</td>\n",
       "      <td>74.00</td>\n",
       "      <td>100.0</td>\n",
       "    </tr>\n",
       "  </tbody>\n",
       "</table>\n",
       "</div>"
      ],
      "text/plain": [
       "                         count       mean        std   min   25%   50%    75%  \\\n",
       "test preparation course                                                         \n",
       "completed                358.0  74.684358  13.236412  36.0  67.0  76.0  83.75   \n",
       "none                     642.0  64.457944  15.041667  10.0  54.0  65.0  74.00   \n",
       "\n",
       "                           max  \n",
       "test preparation course         \n",
       "completed                100.0  \n",
       "none                     100.0  "
      ]
     },
     "execution_count": 30,
     "metadata": {},
     "output_type": "execute_result"
    }
   ],
   "source": [
    "stu.groupby('test preparation course')['writing score'].describe()"
   ]
  },
  {
   "cell_type": "code",
   "execution_count": 37,
   "id": "a03c9e9c",
   "metadata": {},
   "outputs": [
    {
     "data": {
      "image/png": "[encoded data removed]",
      "text/plain": [
       "<Figure size 720x720 with 1 Axes>"
      ]
     },
     "metadata": {},
     "output_type": "display_data"
    }
   ],
   "source": [
    "stu.groupby('test preparation course')[['math score', 'reading score', 'writing score']].mean().T.plot(kind='bar',\n",
    "                                                                                                       figsize=(10,10))\n",
    "plt.xticks(rotation=0)\n",
    "plt.title('Test Preparation Course vs Average score',c='r',fontsize=15)\n",
    "plt.xlabel('Test Preparation Course',c='r',fontsize=14)\n",
    "plt.ylabel('Average',c='r',fontsize=14)\n",
    "plt.grid()\n",
    "plt.show()"
   ]
  },
  {
   "cell_type": "markdown",
   "id": "5b3f4d8d",
   "metadata": {},
   "source": [
    "## INFERENCES:-\n",
    "    Based on test preparation course,\n",
    "       Avearge of completed course are more than none completed.\n",
    "     "
   ]
  },
  {
   "cell_type": "markdown",
   "id": "cb20a2f2",
   "metadata": {},
   "source": [
    "## 4. What do you think about the scoring variation for math, reading and writing based on:\n",
    "    4.1 Gender"
   ]
  },
  {
   "cell_type": "code",
   "execution_count": 41,
   "id": "2685ef02",
   "metadata": {},
   "outputs": [
    {
     "data": {
      "text/html": [
       "<div>\n",
       "<style scoped>\n",
       "    .dataframe tbody tr th:only-of-type {\n",
       "        vertical-align: middle;\n",
       "    }\n",
       "\n",
       "    .dataframe tbody tr th {\n",
       "        vertical-align: top;\n",
       "    }\n",
       "\n",
       "    .dataframe thead th {\n",
       "        text-align: right;\n",
       "    }\n",
       "</style>\n",
       "<table border=\"1\" class=\"dataframe\">\n",
       "  <thead>\n",
       "    <tr style=\"text-align: right;\">\n",
       "      <th></th>\n",
       "      <th>count</th>\n",
       "      <th>mean</th>\n",
       "      <th>std</th>\n",
       "      <th>min</th>\n",
       "      <th>25%</th>\n",
       "      <th>50%</th>\n",
       "      <th>75%</th>\n",
       "      <th>max</th>\n",
       "    </tr>\n",
       "    <tr>\n",
       "      <th>gender</th>\n",
       "      <th></th>\n",
       "      <th></th>\n",
       "      <th></th>\n",
       "      <th></th>\n",
       "      <th></th>\n",
       "      <th></th>\n",
       "      <th></th>\n",
       "      <th></th>\n",
       "    </tr>\n",
       "  </thead>\n",
       "  <tbody>\n",
       "    <tr>\n",
       "      <th>female</th>\n",
       "      <td>518.0</td>\n",
       "      <td>63.376448</td>\n",
       "      <td>16.029928</td>\n",
       "      <td>0.0</td>\n",
       "      <td>54.0</td>\n",
       "      <td>65.0</td>\n",
       "      <td>74.0</td>\n",
       "      <td>100.0</td>\n",
       "    </tr>\n",
       "    <tr>\n",
       "      <th>male</th>\n",
       "      <td>482.0</td>\n",
       "      <td>68.821577</td>\n",
       "      <td>14.556411</td>\n",
       "      <td>27.0</td>\n",
       "      <td>59.0</td>\n",
       "      <td>69.0</td>\n",
       "      <td>79.0</td>\n",
       "      <td>100.0</td>\n",
       "    </tr>\n",
       "  </tbody>\n",
       "</table>\n",
       "</div>"
      ],
      "text/plain": [
       "        count       mean        std   min   25%   50%   75%    max\n",
       "gender                                                            \n",
       "female  518.0  63.376448  16.029928   0.0  54.0  65.0  74.0  100.0\n",
       "male    482.0  68.821577  14.556411  27.0  59.0  69.0  79.0  100.0"
      ]
     },
     "execution_count": 41,
     "metadata": {},
     "output_type": "execute_result"
    }
   ],
   "source": [
    "stu.groupby('gender')['math score'].describe()##  METHOD -1"
   ]
  },
  {
   "cell_type": "code",
   "execution_count": 39,
   "id": "46e702f4",
   "metadata": {},
   "outputs": [
    {
     "data": {
      "text/html": [
       "<div>\n",
       "<style scoped>\n",
       "    .dataframe tbody tr th:only-of-type {\n",
       "        vertical-align: middle;\n",
       "    }\n",
       "\n",
       "    .dataframe tbody tr th {\n",
       "        vertical-align: top;\n",
       "    }\n",
       "\n",
       "    .dataframe thead th {\n",
       "        text-align: right;\n",
       "    }\n",
       "</style>\n",
       "<table border=\"1\" class=\"dataframe\">\n",
       "  <thead>\n",
       "    <tr style=\"text-align: right;\">\n",
       "      <th></th>\n",
       "      <th>count</th>\n",
       "      <th>mean</th>\n",
       "      <th>std</th>\n",
       "      <th>min</th>\n",
       "      <th>25%</th>\n",
       "      <th>50%</th>\n",
       "      <th>75%</th>\n",
       "      <th>max</th>\n",
       "    </tr>\n",
       "    <tr>\n",
       "      <th>gender</th>\n",
       "      <th></th>\n",
       "      <th></th>\n",
       "      <th></th>\n",
       "      <th></th>\n",
       "      <th></th>\n",
       "      <th></th>\n",
       "      <th></th>\n",
       "      <th></th>\n",
       "    </tr>\n",
       "  </thead>\n",
       "  <tbody>\n",
       "    <tr>\n",
       "      <th>female</th>\n",
       "      <td>518.0</td>\n",
       "      <td>72.590734</td>\n",
       "      <td>14.411018</td>\n",
       "      <td>17.0</td>\n",
       "      <td>63.25</td>\n",
       "      <td>73.0</td>\n",
       "      <td>83.0</td>\n",
       "      <td>100.0</td>\n",
       "    </tr>\n",
       "    <tr>\n",
       "      <th>male</th>\n",
       "      <td>482.0</td>\n",
       "      <td>65.545643</td>\n",
       "      <td>14.149594</td>\n",
       "      <td>23.0</td>\n",
       "      <td>56.00</td>\n",
       "      <td>66.0</td>\n",
       "      <td>76.0</td>\n",
       "      <td>100.0</td>\n",
       "    </tr>\n",
       "  </tbody>\n",
       "</table>\n",
       "</div>"
      ],
      "text/plain": [
       "        count       mean        std   min    25%   50%   75%    max\n",
       "gender                                                             \n",
       "female  518.0  72.590734  14.411018  17.0  63.25  73.0  83.0  100.0\n",
       "male    482.0  65.545643  14.149594  23.0  56.00  66.0  76.0  100.0"
      ]
     },
     "execution_count": 39,
     "metadata": {},
     "output_type": "execute_result"
    }
   ],
   "source": [
    "stu.groupby('gender')['reading score'].describe()"
   ]
  },
  {
   "cell_type": "code",
   "execution_count": 40,
   "id": "960f4bd9",
   "metadata": {},
   "outputs": [
    {
     "data": {
      "text/html": [
       "<div>\n",
       "<style scoped>\n",
       "    .dataframe tbody tr th:only-of-type {\n",
       "        vertical-align: middle;\n",
       "    }\n",
       "\n",
       "    .dataframe tbody tr th {\n",
       "        vertical-align: top;\n",
       "    }\n",
       "\n",
       "    .dataframe thead th {\n",
       "        text-align: right;\n",
       "    }\n",
       "</style>\n",
       "<table border=\"1\" class=\"dataframe\">\n",
       "  <thead>\n",
       "    <tr style=\"text-align: right;\">\n",
       "      <th></th>\n",
       "      <th>count</th>\n",
       "      <th>mean</th>\n",
       "      <th>std</th>\n",
       "      <th>min</th>\n",
       "      <th>25%</th>\n",
       "      <th>50%</th>\n",
       "      <th>75%</th>\n",
       "      <th>max</th>\n",
       "    </tr>\n",
       "    <tr>\n",
       "      <th>gender</th>\n",
       "      <th></th>\n",
       "      <th></th>\n",
       "      <th></th>\n",
       "      <th></th>\n",
       "      <th></th>\n",
       "      <th></th>\n",
       "      <th></th>\n",
       "      <th></th>\n",
       "    </tr>\n",
       "  </thead>\n",
       "  <tbody>\n",
       "    <tr>\n",
       "      <th>female</th>\n",
       "      <td>518.0</td>\n",
       "      <td>72.467181</td>\n",
       "      <td>14.844842</td>\n",
       "      <td>10.0</td>\n",
       "      <td>64.0</td>\n",
       "      <td>74.0</td>\n",
       "      <td>82.0</td>\n",
       "      <td>100.0</td>\n",
       "    </tr>\n",
       "    <tr>\n",
       "      <th>male</th>\n",
       "      <td>482.0</td>\n",
       "      <td>63.446058</td>\n",
       "      <td>14.227225</td>\n",
       "      <td>15.0</td>\n",
       "      <td>53.0</td>\n",
       "      <td>64.0</td>\n",
       "      <td>74.0</td>\n",
       "      <td>100.0</td>\n",
       "    </tr>\n",
       "  </tbody>\n",
       "</table>\n",
       "</div>"
      ],
      "text/plain": [
       "        count       mean        std   min   25%   50%   75%    max\n",
       "gender                                                            \n",
       "female  518.0  72.467181  14.844842  10.0  64.0  74.0  82.0  100.0\n",
       "male    482.0  63.446058  14.227225  15.0  53.0  64.0  74.0  100.0"
      ]
     },
     "execution_count": 40,
     "metadata": {},
     "output_type": "execute_result"
    }
   ],
   "source": [
    "stu.groupby('gender')['writing score'].describe()"
   ]
  },
  {
   "cell_type": "code",
   "execution_count": 45,
   "id": "f8419cb2",
   "metadata": {},
   "outputs": [
    {
     "data": {
      "text/plain": [
       "gender\n",
       "female    16.029928\n",
       "male      14.556411\n",
       "Name: math score, dtype: float64"
      ]
     },
     "execution_count": 45,
     "metadata": {},
     "output_type": "execute_result"
    }
   ],
   "source": [
    "stu.groupby('gender')['math score'].std() ## METHOD -2"
   ]
  },
  {
   "cell_type": "code",
   "execution_count": 46,
   "id": "4f3e89c4",
   "metadata": {},
   "outputs": [
    {
     "data": {
      "text/plain": [
       "gender\n",
       "female    14.411018\n",
       "male      14.149594\n",
       "Name: reading score, dtype: float64"
      ]
     },
     "execution_count": 46,
     "metadata": {},
     "output_type": "execute_result"
    }
   ],
   "source": [
    "stu.groupby('gender')['reading score'].std()"
   ]
  },
  {
   "cell_type": "code",
   "execution_count": 47,
   "id": "f5b4f204",
   "metadata": {},
   "outputs": [
    {
     "data": {
      "text/plain": [
       "gender\n",
       "female    14.844842\n",
       "male      14.227225\n",
       "Name: writing score, dtype: float64"
      ]
     },
     "execution_count": 47,
     "metadata": {},
     "output_type": "execute_result"
    }
   ],
   "source": [
    "stu.groupby('gender')['writing score'].std()"
   ]
  },
  {
   "cell_type": "markdown",
   "id": "d208d77a",
   "metadata": {},
   "source": [
    "## INFERENCES:-\n",
    "   1. We can see more variance in math score baesd on gender.\n",
    "   2. Female variance is more visible than in male scoring."
   ]
  },
  {
   "cell_type": "markdown",
   "id": "dd3a46b1",
   "metadata": {},
   "source": [
    "## 4. What do you think about the scoring variation for math, reading and writing based on: \n",
    "    4.2 Test preparation course"
   ]
  },
  {
   "cell_type": "code",
   "execution_count": 48,
   "id": "ca59ee95",
   "metadata": {},
   "outputs": [
    {
     "data": {
      "text/plain": [
       "test preparation course\n",
       "completed    14.521847\n",
       "none         15.705689\n",
       "Name: math score, dtype: float64"
      ]
     },
     "execution_count": 48,
     "metadata": {},
     "output_type": "execute_result"
    }
   ],
   "source": [
    "stu.groupby('test preparation course')['math score'].std()"
   ]
  },
  {
   "cell_type": "code",
   "execution_count": 49,
   "id": "d35542ee",
   "metadata": {},
   "outputs": [
    {
     "data": {
      "text/plain": [
       "test preparation course\n",
       "completed    13.537572\n",
       "none         14.608896\n",
       "Name: reading score, dtype: float64"
      ]
     },
     "execution_count": 49,
     "metadata": {},
     "output_type": "execute_result"
    }
   ],
   "source": [
    "stu.groupby('test preparation course')['reading score'].std()"
   ]
  },
  {
   "cell_type": "code",
   "execution_count": 50,
   "id": "669188cf",
   "metadata": {},
   "outputs": [
    {
     "data": {
      "text/plain": [
       "test preparation course\n",
       "completed    13.236412\n",
       "none         15.041667\n",
       "Name: writing score, dtype: float64"
      ]
     },
     "execution_count": 50,
     "metadata": {},
     "output_type": "execute_result"
    }
   ],
   "source": [
    "stu.groupby('test preparation course')['writing score'].std()"
   ]
  },
  {
   "cell_type": "markdown",
   "id": "abf81759",
   "metadata": {},
   "source": [
    "## INFERENCES:-\n",
    "    Low score variation in course completed than course not completed."
   ]
  },
  {
   "cell_type": "markdown",
   "id": "aacc1fcb",
   "metadata": {},
   "source": [
    "## 5. The management needs your help to give bonus points to the top 25% of students based on their maths score, so how will you help the management to achieve this?"
   ]
  },
  {
   "cell_type": "code",
   "execution_count": 54,
   "id": "b6cf1c98",
   "metadata": {},
   "outputs": [
    {
     "data": {
      "text/html": [
       "<div>\n",
       "<style scoped>\n",
       "    .dataframe tbody tr th:only-of-type {\n",
       "        vertical-align: middle;\n",
       "    }\n",
       "\n",
       "    .dataframe tbody tr th {\n",
       "        vertical-align: top;\n",
       "    }\n",
       "\n",
       "    .dataframe thead th {\n",
       "        text-align: right;\n",
       "    }\n",
       "</style>\n",
       "<table border=\"1\" class=\"dataframe\">\n",
       "  <thead>\n",
       "    <tr style=\"text-align: right;\">\n",
       "      <th></th>\n",
       "      <th>gender</th>\n",
       "      <th>race/ethnicity</th>\n",
       "      <th>parental level of education</th>\n",
       "      <th>lunch</th>\n",
       "      <th>test preparation course</th>\n",
       "      <th>math score</th>\n",
       "      <th>reading score</th>\n",
       "      <th>writing score</th>\n",
       "    </tr>\n",
       "  </thead>\n",
       "  <tbody>\n",
       "    <tr>\n",
       "      <th>999</th>\n",
       "      <td>male</td>\n",
       "      <td>group E</td>\n",
       "      <td>bachelor's degree</td>\n",
       "      <td>standard</td>\n",
       "      <td>completed</td>\n",
       "      <td>100</td>\n",
       "      <td>100</td>\n",
       "      <td>100</td>\n",
       "    </tr>\n",
       "    <tr>\n",
       "      <th>996</th>\n",
       "      <td>male</td>\n",
       "      <td>group A</td>\n",
       "      <td>some college</td>\n",
       "      <td>standard</td>\n",
       "      <td>completed</td>\n",
       "      <td>100</td>\n",
       "      <td>96</td>\n",
       "      <td>86</td>\n",
       "    </tr>\n",
       "    <tr>\n",
       "      <th>515</th>\n",
       "      <td>female</td>\n",
       "      <td>group E</td>\n",
       "      <td>some college</td>\n",
       "      <td>standard</td>\n",
       "      <td>none</td>\n",
       "      <td>100</td>\n",
       "      <td>92</td>\n",
       "      <td>97</td>\n",
       "    </tr>\n",
       "    <tr>\n",
       "      <th>517</th>\n",
       "      <td>female</td>\n",
       "      <td>group E</td>\n",
       "      <td>associate's degree</td>\n",
       "      <td>standard</td>\n",
       "      <td>none</td>\n",
       "      <td>100</td>\n",
       "      <td>100</td>\n",
       "      <td>100</td>\n",
       "    </tr>\n",
       "    <tr>\n",
       "      <th>516</th>\n",
       "      <td>female</td>\n",
       "      <td>group E</td>\n",
       "      <td>bachelor's degree</td>\n",
       "      <td>standard</td>\n",
       "      <td>none</td>\n",
       "      <td>100</td>\n",
       "      <td>100</td>\n",
       "      <td>100</td>\n",
       "    </tr>\n",
       "    <tr>\n",
       "      <th>...</th>\n",
       "      <td>...</td>\n",
       "      <td>...</td>\n",
       "      <td>...</td>\n",
       "      <td>...</td>\n",
       "      <td>...</td>\n",
       "      <td>...</td>\n",
       "      <td>...</td>\n",
       "      <td>...</td>\n",
       "    </tr>\n",
       "    <tr>\n",
       "      <th>856</th>\n",
       "      <td>male</td>\n",
       "      <td>group E</td>\n",
       "      <td>some high school</td>\n",
       "      <td>standard</td>\n",
       "      <td>completed</td>\n",
       "      <td>77</td>\n",
       "      <td>76</td>\n",
       "      <td>77</td>\n",
       "    </tr>\n",
       "    <tr>\n",
       "      <th>855</th>\n",
       "      <td>male</td>\n",
       "      <td>group E</td>\n",
       "      <td>associate's degree</td>\n",
       "      <td>free/reduced</td>\n",
       "      <td>completed</td>\n",
       "      <td>77</td>\n",
       "      <td>69</td>\n",
       "      <td>68</td>\n",
       "    </tr>\n",
       "    <tr>\n",
       "      <th>854</th>\n",
       "      <td>male</td>\n",
       "      <td>group D</td>\n",
       "      <td>some high school</td>\n",
       "      <td>standard</td>\n",
       "      <td>completed</td>\n",
       "      <td>77</td>\n",
       "      <td>68</td>\n",
       "      <td>69</td>\n",
       "    </tr>\n",
       "    <tr>\n",
       "      <th>853</th>\n",
       "      <td>male</td>\n",
       "      <td>group D</td>\n",
       "      <td>associate's degree</td>\n",
       "      <td>free/reduced</td>\n",
       "      <td>none</td>\n",
       "      <td>77</td>\n",
       "      <td>78</td>\n",
       "      <td>73</td>\n",
       "    </tr>\n",
       "    <tr>\n",
       "      <th>852</th>\n",
       "      <td>male</td>\n",
       "      <td>group D</td>\n",
       "      <td>some college</td>\n",
       "      <td>free/reduced</td>\n",
       "      <td>none</td>\n",
       "      <td>77</td>\n",
       "      <td>62</td>\n",
       "      <td>64</td>\n",
       "    </tr>\n",
       "  </tbody>\n",
       "</table>\n",
       "<p>250 rows × 8 columns</p>\n",
       "</div>"
      ],
      "text/plain": [
       "     gender race/ethnicity parental level of education         lunch  \\\n",
       "999    male        group E           bachelor's degree      standard   \n",
       "996    male        group A                some college      standard   \n",
       "515  female        group E                some college      standard   \n",
       "517  female        group E          associate's degree      standard   \n",
       "516  female        group E           bachelor's degree      standard   \n",
       "..      ...            ...                         ...           ...   \n",
       "856    male        group E            some high school      standard   \n",
       "855    male        group E          associate's degree  free/reduced   \n",
       "854    male        group D            some high school      standard   \n",
       "853    male        group D          associate's degree  free/reduced   \n",
       "852    male        group D                some college  free/reduced   \n",
       "\n",
       "    test preparation course  math score  reading score  writing score  \n",
       "999               completed         100            100            100  \n",
       "996               completed         100             96             86  \n",
       "515                    none         100             92             97  \n",
       "517                    none         100            100            100  \n",
       "516                    none         100            100            100  \n",
       "..                      ...         ...            ...            ...  \n",
       "856               completed          77             76             77  \n",
       "855               completed          77             69             68  \n",
       "854               completed          77             68             69  \n",
       "853                    none          77             78             73  \n",
       "852                    none          77             62             64  \n",
       "\n",
       "[250 rows x 8 columns]"
      ]
     },
     "execution_count": 54,
     "metadata": {},
     "output_type": "execute_result"
    }
   ],
   "source": [
    "stu.sort_values(by='math score',ascending=False).head(250)## COMPLETELY SORTED LIST BASED ON MATH SCORE .USING THIS WE CAN HAND PICK STUDENTS."
   ]
  },
  {
   "cell_type": "code",
   "execution_count": 53,
   "id": "14fa8793",
   "metadata": {},
   "outputs": [
    {
     "data": {
      "text/html": [
       "<div>\n",
       "<style scoped>\n",
       "    .dataframe tbody tr th:only-of-type {\n",
       "        vertical-align: middle;\n",
       "    }\n",
       "\n",
       "    .dataframe tbody tr th {\n",
       "        vertical-align: top;\n",
       "    }\n",
       "\n",
       "    .dataframe thead th {\n",
       "        text-align: right;\n",
       "    }\n",
       "</style>\n",
       "<table border=\"1\" class=\"dataframe\">\n",
       "  <thead>\n",
       "    <tr style=\"text-align: right;\">\n",
       "      <th></th>\n",
       "      <th>math score</th>\n",
       "    </tr>\n",
       "  </thead>\n",
       "  <tbody>\n",
       "    <tr>\n",
       "      <th>count</th>\n",
       "      <td>1000.000000</td>\n",
       "    </tr>\n",
       "    <tr>\n",
       "      <th>mean</th>\n",
       "      <td>66.001000</td>\n",
       "    </tr>\n",
       "    <tr>\n",
       "      <th>std</th>\n",
       "      <td>15.569567</td>\n",
       "    </tr>\n",
       "    <tr>\n",
       "      <th>min</th>\n",
       "      <td>0.000000</td>\n",
       "    </tr>\n",
       "    <tr>\n",
       "      <th>25%</th>\n",
       "      <td>57.000000</td>\n",
       "    </tr>\n",
       "    <tr>\n",
       "      <th>50%</th>\n",
       "      <td>66.000000</td>\n",
       "    </tr>\n",
       "    <tr>\n",
       "      <th>75%</th>\n",
       "      <td>77.000000</td>\n",
       "    </tr>\n",
       "    <tr>\n",
       "      <th>max</th>\n",
       "      <td>100.000000</td>\n",
       "    </tr>\n",
       "  </tbody>\n",
       "</table>\n",
       "</div>"
      ],
      "text/plain": [
       "        math score\n",
       "count  1000.000000\n",
       "mean     66.001000\n",
       "std      15.569567\n",
       "min       0.000000\n",
       "25%      57.000000\n",
       "50%      66.000000\n",
       "75%      77.000000\n",
       "max     100.000000"
      ]
     },
     "execution_count": 53,
     "metadata": {},
     "output_type": "execute_result"
    }
   ],
   "source": [
    "stu['math score'].describe().to_frame()"
   ]
  },
  {
   "cell_type": "markdown",
   "id": "21303f3a",
   "metadata": {},
   "source": [
    "## INFERENCES:-\n",
    "    Using the above quartile method , we can find the top 25 students i.e, above 77 math score, so that we may not miss any deserving students."
   ]
  },
  {
   "cell_type": "markdown",
   "id": "28e740d6",
   "metadata": {},
   "source": [
    "### KARUNNIA MENON M, DSA NORKA ,BATCH-3"
   ]
  }
 ],
 "metadata": {
  "kernelspec": {
   "display_name": "Python 3",
   "language": "python",
   "name": "python3"
  },
  "language_info": {
   "codemirror_mode": {
    "name": "ipython",
    "version": 3
   },
   "file_extension": ".py",
   "mimetype": "text/x-python",
   "name": "python",
   "nbconvert_exporter": "python",
   "pygments_lexer": "ipython3",
   "version": "3.8.8"
  }
 },
 "nbformat": 4,
 "nbformat_minor": 5
}
